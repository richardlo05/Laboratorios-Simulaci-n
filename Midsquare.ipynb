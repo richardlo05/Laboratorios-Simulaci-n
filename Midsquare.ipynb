{
 "cells": [
  {
   "cell_type": "code",
   "execution_count": null,
   "metadata": {
    "collapsed": true
   },
   "outputs": [],
   "source": [
    "import math\n",
    "def midsquare(semilla,cantidad):\n",
    "    numMid = [] \n",
    "    for i in range(cantidad): \n",
    "        if len(str(semilla))%2==0:\n",
    "            cuadrado=int(semilla)**2\n",
    "            decimal=\"0.\"\n",
    "            numEnt=\"\"\n",
    "            cantCeros=\"\"\n",
    "            conv=str(cuadrado)\n",
    "            if len(str(cuadrado))%4!=0:\n",
    "                cicloCeros=((len(str(cuadrado))/4)+1)*4-len(str(cuadrado))\n",
    "                for k in range(cicloCeros):\n",
    "                    cantCeros+=\"0\"\n",
    "                conv=cantCeros+str(cuadrado)\n",
    "            posInicial=len(str(semilla))/2\n",
    "            posFinal=posInicial+len(str(semilla))-1\n",
    "            for j in range (posInicial,posFinal+1):\n",
    "                decimal+=str(conv)[j]\n",
    "                numEnt+=str(conv)[j]\n",
    "            numMid.append(float(decimal))\n",
    "            semilla=numEnt\n",
    "    return numMid"
   ]
  }
 ],
 "metadata": {
  "kernelspec": {
   "display_name": "Python 3",
   "language": "python",
   "name": "python3"
  },
  "language_info": {
   "codemirror_mode": {
    "name": "ipython",
    "version": 3
   },
   "file_extension": ".py",
   "mimetype": "text/x-python",
   "name": "python",
   "nbconvert_exporter": "python",
   "pygments_lexer": "ipython3",
   "version": "3.5.1"
  }
 },
 "nbformat": 4,
 "nbformat_minor": 0
}
