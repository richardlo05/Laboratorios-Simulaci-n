{
 "cells": [
  {
   "cell_type": "code",
   "execution_count": 1,
   "metadata": {
    "collapsed": false
   },
   "outputs": [
    {
     "name": "stdout",
     "output_type": "stream",
     "text": [
      "numero de valores que tomara la variable aleatoria: 2\n",
      "variable aleatoria: 1\n",
      "valor de la probabilidad 2\n",
      "variable aleatoria: 1\n",
      "valor de la probabilidad 2\n",
      "Ingrese la cantidad de numeros aleatorios que desea: 1\n",
      "Lista generada por inversion: \n",
      "1\n",
      "1\n",
      "1\n",
      "1\n",
      "1\n",
      "1\n",
      "1\n",
      "1\n",
      "1\n",
      "1\n",
      "1\n",
      "1\n",
      "1\n",
      "1\n",
      "1\n",
      "1\n",
      "1\n",
      "1\n",
      "1\n",
      "1\n",
      "1\n",
      "1\n",
      "1\n",
      "1\n",
      "1\n",
      "1\n",
      "1\n",
      "1\n",
      "1\n",
      "1\n",
      "1\n",
      "1\n",
      "1\n",
      "1\n",
      "1\n",
      "1\n",
      "1\n",
      "1\n",
      "1\n",
      "1\n",
      "1\n",
      "Variable aleatoria x: \n",
      "[1, 1]\n",
      "Probabilidad p(x) \n",
      "[2, 2]\n",
      "Funcion de distribucion acumulada P(X) \n",
      "[0, 2, 4]\n"
     ]
    }
   ],
   "source": [
    "\"\"\"\n",
    "Created on Sun Mar 27 12:14:35 2016\n",
    "\n",
    "@author: ricardo\n",
    "\"\"\"\n",
    "\n",
    "def congruencial(a,b,m,n,Xo):\n",
    "    vector=[]\n",
    "    for i in range(n):\n",
    "        Xn=(a*Xo+b)%m\n",
    "        Xo=Xn\n",
    "        Un=Xn/float(m)\n",
    "        vector.append(Un)\n",
    "    return vector\n",
    "    \n",
    "def inversion(muestras,pro,x):\n",
    "    list=[0]\n",
    "    num=0\n",
    "    numAleatorios=congruencial(40,32,14,50,muestras)\n",
    "    \n",
    "    for i in range(len(pro)):\n",
    "        num+=pro[i]\n",
    "        list.append(num)\n",
    "    print 'Lista generada por inversion: '\n",
    "    for i in range(len(numAleatorios)):\n",
    "        for j in range(len(list)-1):\n",
    "            if(numAleatorios[i]>list[j] and numAleatorios[i]<=list[j+1]):\n",
    "                print x[j]\n",
    "                \n",
    "    print \"Variable aleatoria x: \"\n",
    "    print x\n",
    "    print \"Probabilidad p(x) \"\n",
    "    print pro\n",
    "    print \"Funcion de distribucion acumulada P(X) \"\n",
    "    print list\n",
    "    \n",
    "numVal=input('numero de valores que tomara la variable aleatoria: ')  \n",
    "x=[]\n",
    "pro=[]\n",
    "for i in range(numVal):\n",
    "    varAleatoria=input('variable aleatoria: ')\n",
    "    probabilidad=input('valor de la probabilidad ')\n",
    "    x.append(varAleatoria)\n",
    "    pro.append(probabilidad)\n",
    "cantNumAlea=input('Ingrese la cantidad de numeros aleatorios que desea: ')\n",
    "inversion(cantNumAlea,pro,x)    "
   ]
  },
  {
   "cell_type": "markdown",
   "metadata": {},
   "source": [
    "## "
   ]
  }
 ],
 "metadata": {
  "kernelspec": {
   "display_name": "Python 2",
   "language": "python",
   "name": "python2"
  },
  "language_info": {
   "codemirror_mode": {
    "name": "ipython",
    "version": 2
   },
   "file_extension": ".py",
   "mimetype": "text/x-python",
   "name": "python",
   "nbconvert_exporter": "python",
   "pygments_lexer": "ipython2",
   "version": "2.7.11"
  }
 },
 "nbformat": 4,
 "nbformat_minor": 0
}
