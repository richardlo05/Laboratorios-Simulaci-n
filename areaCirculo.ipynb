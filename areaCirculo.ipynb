{
 "cells": [
  {
   "cell_type": "code",
   "execution_count": 1,
   "metadata": {
    "collapsed": false
   },
   "outputs": [
    {
     "name": "stdout",
     "output_type": "stream",
     "text": [
      "Ingrese el valor del radio: 5\n",
      "Ingrese las muestras que desea generar: 100\n",
      "\n",
      " 1. Midsquare \n",
      " 2.congruencial\n",
      " que metodo desea utilizar: 1\n",
      "Area estimada del circulo es: \n",
      "73.0\n",
      "Area real del circulo: \n",
      "78.5398163397\n",
      "Diferencia etre el area estimada y el area real: \n",
      "5.53981633974\n"
     ]
    }
   ],
   "source": [
    "import math\n",
    "import matplotlib.pyplot as plt\n",
    "import numpy as np\n",
    "\n",
    "\n",
    "def circulo(radio,muestras,metodo):\n",
    "    delta=1.0*math.pow(2.0*radio,2)/(muestras)\n",
    "    sumPuntos=0.0\n",
    "    fig, ax = plt.subplots()\n",
    "    for i in range(0,muestras):\n",
    "        if metodo==1:\n",
    "            if radio>=math.pow(math.pow((2.0*radio * congruencial(19.0,23.0,58.0,56.0,muestras)[i]) - radio,2)+math.pow((2.0*radio * congruencial(32.0,23.0,98.0,60.0,muestras)[i]) - radio,2),.5):\n",
    "                sumPuntos+=1.0\n",
    "                ax.plot((2.0*radio * congruencial(19.0,23.0,58.0,56.0,muestras)[i]) - radio, (2.0*radio * congruencial(32.0,23.0,98.0,60.0,muestras)[i]) - radio, 'o', color='red')\n",
    "            else:\n",
    "                ax.plot((2.0*radio * congruencial(19.0,23.0,58.0,56.0,muestras)[i]) - radio, (2.0*radio * congruencial(32.0,23.0,98.0,60.0,muestras)[i]) - radio, 'o', color='blue')\n",
    "\n",
    "        else:\n",
    "            if radio>=math.pow(math.pow((2.0*radio * congruencial(19.0,23.0,58.0,56.0,muestras)[i]) - radio,2)+math.pow((2.0*radio * congruencial(32.0,23.0,98.0,60.0,muestras)[i]) - radio,2),.5):\n",
    "                sumPuntos+=1.0\n",
    "                ax.plot((2.0*radio * congruencial(19.0,23.0,58.0,56.0,muestras)[i]) - radio, (2.0*radio * congruencial(32.0,23.0,98.0,60.0,muestras)[i]) - radio, 'o', color='red')\n",
    "            else:\n",
    "                ax.plot((2.0*radio * congruencial(19.0,23.0,58.0,56.0,muestras)[i]) - radio, (2.0*radio * congruencial(32.0,23.0,98.0,60.0,muestras)[i]) - radio, 'o', color='blue')\n",
    "\n",
    "    areaSumPuntos=sumPuntos*delta\n",
    "    an = np.linspace(0, 2*np.pi, 100)\n",
    "    plt.plot(5*np.cos(an), 5*np.sin(an))\n",
    "    plt.axis('equal')\n",
    "    plt.axis([-5, 5, -5, 5])\n",
    "    plt.show()\n",
    "    \n",
    "    print \"Area estimada del circulo es: \" \n",
    "    print areaSumPuntos\n",
    "    \n",
    "    areaReal=math.pi*math.pow(radio,2)\n",
    "    print \"Area real del circulo: \"\n",
    "    print areaReal\n",
    "    \n",
    "    dif=abs(areaSumPuntos-areaReal)\n",
    "    print \"Diferencia etre el area estimada y el area real: \"\n",
    "    print dif\n",
    "    \n",
    "def midsquare(semilla,cantidad):\n",
    "    numMid = [] \n",
    "    for i in range(cantidad): \n",
    "        if len(str(semilla))%2==0:\n",
    "            cuadrado=int(semilla)**2\n",
    "            decimal=\"0.\"\n",
    "            numEnt=\"\"\n",
    "            cantCeros=\"\"\n",
    "            conv=str(cuadrado)\n",
    "            if len(str(cuadrado))%4!=0:\n",
    "                cicloCeros=((len(str(cuadrado))/4)+1)*4-len(str(cuadrado))\n",
    "                for k in range(cicloCeros):\n",
    "                    cantCeros+=\"0\"\n",
    "                conv=cantCeros+str(cuadrado)\n",
    "            posInicial=len(str(semilla))/2\n",
    "            posFinal=posInicial+len(str(semilla))-1\n",
    "            for j in range (posInicial,posFinal+1):\n",
    "                decimal+=str(conv)[j]\n",
    "                numEnt+=str(conv)[j]\n",
    "            numMid.append(float(decimal))\n",
    "            semilla=numEnt\n",
    "    return numMid\n",
    "\n",
    "def congruencial(a,b,m,x0,n):\n",
    "    xn=0.0\n",
    "    un=0.0\n",
    "    vector = []\n",
    "    for i in range(0,n):\n",
    "        xn=(a*x0 + b)%m\n",
    "        un=xn/float(m)\n",
    "        vector.insert(i,un)\n",
    "        x0=xn\n",
    "    return vector\n",
    "\n",
    "#v = congruencial(34,32,34,32,23) \n",
    "#print (v)\n",
    "radio=input(\"Ingrese el valor del radio: \")\n",
    "muestras= input(\"Ingrese las muestras que desea generar: \")\n",
    "metodo=input(\"\\n 1. Midsquare \\n 2.congruencial\\n que metodo desea utilizar: \")\n",
    "circulo(radio,muestras,metodo)"
   ]
  },
  {
   "cell_type": "code",
   "execution_count": null,
   "metadata": {
    "collapsed": true
   },
   "outputs": [],
   "source": []
  }
 ],
 "metadata": {
  "kernelspec": {
   "display_name": "Python 2",
   "language": "python",
   "name": "python2"
  },
  "language_info": {
   "codemirror_mode": {
    "name": "ipython",
    "version": 2
   },
   "file_extension": ".py",
   "mimetype": "text/x-python",
   "name": "python",
   "nbconvert_exporter": "python",
   "pygments_lexer": "ipython2",
   "version": "2.7.11"
  }
 },
 "nbformat": 4,
 "nbformat_minor": 0
}
